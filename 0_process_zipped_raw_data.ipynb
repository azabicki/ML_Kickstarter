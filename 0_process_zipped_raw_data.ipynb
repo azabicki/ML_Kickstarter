{
 "cells": [
  {
   "cell_type": "markdown",
   "metadata": {},
   "source": [
    "### Import libraries"
   ]
  },
  {
   "cell_type": "code",
   "execution_count": null,
   "metadata": {},
   "outputs": [],
   "source": [
    "import os, glob, shutil\n",
    "import zipfile as zf\n",
    "import pandas as pd\n",
    "import numpy as np"
   ]
  },
  {
   "cell_type": "markdown",
   "metadata": {},
   "source": [
    "### Import raw data from Web-Robot-ZIP-Archives"
   ]
  },
  {
   "cell_type": "code",
   "execution_count": null,
   "metadata": {},
   "outputs": [],
   "source": [
    "df = None\n",
    "df_import = pd.DataFrame(columns=['zip', 'csv', 'samples'])\n",
    "\n",
    "zip_dir = 'data/web_robot_zip'\n",
    "unzip_dir = 'data/unzipped'\n",
    "\n",
    "zip_files = sorted(glob.glob(os.path.join(zip_dir, '*.zip')))\n",
    "for i, zip_file in enumerate(zip_files): # loop through items in dir\n",
    "    # unzip file\n",
    "    file_name = os.path.join(zip_file) # get full path of files\n",
    "    zip_ref = zf.ZipFile(file_name) # create zipfile object\n",
    "    zip_ref.extractall(unzip_dir) # extract file to dir\n",
    "    zip_ref.close() # close file    \n",
    "\n",
    "    # loop all extracted csv files\n",
    "    csv_files = sorted(glob.glob(os.path.join(unzip_dir, '*.csv')))\n",
    "    for j, csv_file in enumerate(csv_files):\n",
    "        print(f'zipfile {i+1}/{len(zip_files)} - csv {j+1}/{len(csv_files)}', end = \"\\r\")\n",
    "        \n",
    "        # import aw data and perfrom first clean up of remocing all the useless columns\n",
    "        df_raw = pd.read_csv(csv_file)\n",
    "        \n",
    "        # save stats about this csv/zip file\n",
    "        df_import.loc[len(df_import)] = {'zip': zip_file, 'csv': csv_file, 'samples': df_raw.shape[0]}\n",
    "\n",
    "        # concat to df and check for duplicates\n",
    "        df = pd.concat([df,df_raw], ignore_index=True)\n",
    "        df.drop_duplicates(subset='id', inplace=True)\n",
    "\n",
    "    # delete folder containing unzipped data\n",
    "    shutil.rmtree(unzip_dir)\n",
    "\n",
    "# sort by date of creation\n",
    "df.sort_values(by='created_at', inplace=True, ignore_index=True)\n",
    "\n",
    "# print some information about the dataframe\n",
    "print(end='\\n')\n",
    "print(f\"in total, there were '{df_import.samples.sum()}' instances\")\n",
    "print(f\"after removing duplicates, '{df.shape[0]}' instances are left\")\n",
    "print(f\"there are '{df.shape[1]}' features\")"
   ]
  },
  {
   "cell_type": "markdown",
   "metadata": {},
   "source": [
    "#### Split DataFrame and save as zip"
   ]
  },
  {
   "cell_type": "code",
   "execution_count": null,
   "metadata": {},
   "outputs": [],
   "source": [
    "# create folder \n",
    "!mkdir -p data/zip\n",
    "\n",
    "# split df into that many parts\n",
    "parts = 10\n",
    "split_at = np.linspace(0, df.shape[0], parts+1).astype(int)\n",
    "\n",
    "# loop parts\n",
    "for s in range(parts):\n",
    "    # split df \n",
    "    if s != parts-1:\n",
    "        df_split = df.iloc[split_at[s]:split_at[s+1], :]\n",
    "    else:\n",
    "        df_split = df.iloc[split_at[s]:, :]\n",
    "\n",
    "    print(f'part {s} of {parts-1} splits at indices: {df_split.index[0]} - {df_split.index[-1]}')\n",
    "\n",
    "    ## version 1\n",
    "    zip_name = os.path.join('data', 'zip', f'KS_part_{s:03d}.zip')\n",
    "    df_split.to_csv(zip_name, compression='zip', index=False)\n",
    "\n",
    "    ## version 2\n",
    "    # zip_name = os.path.join('data', 'zip', f'KS_part_{s:03d}.zip')\n",
    "    # csv_name = os.path.join('data', 'zip', f'KS_part_{s:03d}.csv')\n",
    "    # df_split.to_csv(csv_name, index=False)\n",
    "    # with zf.ZipFile(zip_name, 'w') as myzip:\n",
    "    #     myzip.write(csv_name, os.path.basename(csv_name))\n",
    "    # os.remove(csv_name)\n",
    "\n",
    "    ## version 3\n",
    "    # csv_name = os.path.join('data', 'zip', f'KS_part_{s:03d}.csv')\n",
    "    # df_split.to_csv(csv_name, index=False)\n"
   ]
  }
 ],
 "metadata": {
  "kernelspec": {
   "display_name": "nf_MF_Kickstarter",
   "language": "python",
   "name": "python3"
  },
  "language_info": {
   "codemirror_mode": {
    "name": "ipython",
    "version": 3
   },
   "file_extension": ".py",
   "mimetype": "text/x-python",
   "name": "python",
   "nbconvert_exporter": "python",
   "pygments_lexer": "ipython3",
   "version": "3.12.2"
  }
 },
 "nbformat": 4,
 "nbformat_minor": 2
}
