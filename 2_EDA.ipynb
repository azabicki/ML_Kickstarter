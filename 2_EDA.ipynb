{
 "cells": [
  {
   "cell_type": "markdown",
   "metadata": {},
   "source": [
    "# EDA\n",
    "\n",
    "In this notebook an EDA of the Kickstarter dataset will be performed.\n",
    "\n",
    "For the purpose of a clean notebook, the detailed plotting functions are stored in the [EDA_plots.py](./EDA_plots.py) file.\n",
    "\n",
    "## Import libraries & DataFrame"
   ]
  },
  {
   "cell_type": "code",
   "execution_count": 1,
   "metadata": {},
   "outputs": [],
   "source": [
    "# --- import ---\n",
    "import os, calendar\n",
    "import pandas as pd\n",
    "import numpy as np\n",
    "import matplotlib.pyplot as plt\n",
    "import seaborn as sns\n",
    "\n",
    "import EDA_plots as EDA\n",
    "\n",
    "# plot styles\n",
    "%matplotlib inline\n",
    "sns.set_theme(rc={\"figure.dpi\":300, 'savefig.dpi':300})\n",
    "plt.style.use('https://github.com/dhaitz/matplotlib-stylesheets/raw/master/pitayasmoothie-light.mplstyle')\n",
    "\n",
    "# formating options & functions\n",
    "def formatter(x, pos=0):\n",
    "    return str(round(x / 1e6, pos)) + \" mil.\" if x > 100000 else str(x)\n",
    "pd.set_option('display.float_format', lambda x: '%.2f' % x)"
   ]
  },
  {
   "cell_type": "code",
   "execution_count": 2,
   "metadata": {},
   "outputs": [],
   "source": [
    "# --- import dataframe ---\n",
    "df = pd.read_csv(os.path.join('data', 'df_preprocessed.csv'))\n",
    "for c in ['created_at', 'launched_at', 'deadline_at']:\n",
    "    df[c] = pd.to_datetime(df[c])\n",
    "\n",
    "# prepare some variables\n",
    "num_feat = df.select_dtypes(include=['number']).columns.to_list()\n",
    "cat_features = df.select_dtypes(exclude=['number']).columns.to_list()"
   ]
  },
  {
   "cell_type": "code",
   "execution_count": 3,
   "metadata": {},
   "outputs": [
    {
     "name": "stdout",
     "output_type": "stream",
     "text": [
      "<class 'pandas.core.frame.DataFrame'>\n",
      "RangeIndex: 214197 entries, 0 to 214196\n",
      "Data columns (total 20 columns):\n",
      " #   Column             Non-Null Count   Dtype         \n",
      "---  ------             --------------   -----         \n",
      " 0   backers_count      214197 non-null  int64         \n",
      " 1   category           214197 non-null  object        \n",
      " 2   country            214197 non-null  object        \n",
      " 3   created_at         214197 non-null  datetime64[ns]\n",
      " 4   launched_at        214197 non-null  datetime64[ns]\n",
      " 5   staff_pick         214197 non-null  bool          \n",
      " 6   state              214197 non-null  object        \n",
      " 7   usd_pledged        214197 non-null  float64       \n",
      " 8   deadline_at        214197 non-null  datetime64[ns]\n",
      " 9   usd_goal           214197 non-null  float64       \n",
      " 10  name_length        214197 non-null  int64         \n",
      " 11  blurb_length       214197 non-null  float64       \n",
      " 12  preparation_days   214197 non-null  int64         \n",
      " 13  campaign_days      214197 non-null  int64         \n",
      " 14  deadline_day       214197 non-null  object        \n",
      " 15  deadline_month     214197 non-null  object        \n",
      " 16  year               214197 non-null  int64         \n",
      " 17  launch_day         214197 non-null  object        \n",
      " 18  launch_month       214197 non-null  object        \n",
      " 19  pledge_per_backer  199636 non-null  float64       \n",
      "dtypes: bool(1), datetime64[ns](3), float64(4), int64(5), object(7)\n",
      "memory usage: 31.3+ MB\n"
     ]
    }
   ],
   "source": [
    "df.info()"
   ]
  },
  {
   "cell_type": "code",
   "execution_count": 4,
   "metadata": {},
   "outputs": [
    {
     "data": {
      "text/html": [
       "<div>\n",
       "<style scoped>\n",
       "    .dataframe tbody tr th:only-of-type {\n",
       "        vertical-align: middle;\n",
       "    }\n",
       "\n",
       "    .dataframe tbody tr th {\n",
       "        vertical-align: top;\n",
       "    }\n",
       "\n",
       "    .dataframe thead th {\n",
       "        text-align: right;\n",
       "    }\n",
       "</style>\n",
       "<table border=\"1\" class=\"dataframe\">\n",
       "  <thead>\n",
       "    <tr style=\"text-align: right;\">\n",
       "      <th></th>\n",
       "      <th>backers_count</th>\n",
       "      <th>category</th>\n",
       "      <th>country</th>\n",
       "      <th>created_at</th>\n",
       "      <th>launched_at</th>\n",
       "      <th>staff_pick</th>\n",
       "      <th>state</th>\n",
       "      <th>usd_pledged</th>\n",
       "      <th>deadline_at</th>\n",
       "      <th>usd_goal</th>\n",
       "      <th>name_length</th>\n",
       "      <th>blurb_length</th>\n",
       "      <th>preparation_days</th>\n",
       "      <th>campaign_days</th>\n",
       "      <th>deadline_day</th>\n",
       "      <th>deadline_month</th>\n",
       "      <th>year</th>\n",
       "      <th>launch_day</th>\n",
       "      <th>launch_month</th>\n",
       "      <th>pledge_per_backer</th>\n",
       "    </tr>\n",
       "  </thead>\n",
       "  <tbody>\n",
       "    <tr>\n",
       "      <th>0</th>\n",
       "      <td>114</td>\n",
       "      <td>Music</td>\n",
       "      <td>US</td>\n",
       "      <td>2009-04-22 02:11:10</td>\n",
       "      <td>2009-05-01 15:44:25</td>\n",
       "      <td>True</td>\n",
       "      <td>successful</td>\n",
       "      <td>4100.60</td>\n",
       "      <td>2009-06-05 06:59:00</td>\n",
       "      <td>4000.00</td>\n",
       "      <td>9</td>\n",
       "      <td>22.00</td>\n",
       "      <td>10</td>\n",
       "      <td>35</td>\n",
       "      <td>Friday</td>\n",
       "      <td>June</td>\n",
       "      <td>2009</td>\n",
       "      <td>Friday</td>\n",
       "      <td>May</td>\n",
       "      <td>35.97</td>\n",
       "    </tr>\n",
       "    <tr>\n",
       "      <th>1</th>\n",
       "      <td>60</td>\n",
       "      <td>Journalism</td>\n",
       "      <td>US</td>\n",
       "      <td>2009-04-23 03:06:59</td>\n",
       "      <td>2009-11-19 21:43:15</td>\n",
       "      <td>False</td>\n",
       "      <td>successful</td>\n",
       "      <td>3425.00</td>\n",
       "      <td>2010-01-18 07:59:00</td>\n",
       "      <td>3000.00</td>\n",
       "      <td>10</td>\n",
       "      <td>19.00</td>\n",
       "      <td>211</td>\n",
       "      <td>59</td>\n",
       "      <td>Monday</td>\n",
       "      <td>January</td>\n",
       "      <td>2010</td>\n",
       "      <td>Thursday</td>\n",
       "      <td>November</td>\n",
       "      <td>57.08</td>\n",
       "    </tr>\n",
       "  </tbody>\n",
       "</table>\n",
       "</div>"
      ],
      "text/plain": [
       "   backers_count    category country          created_at         launched_at  \\\n",
       "0            114       Music      US 2009-04-22 02:11:10 2009-05-01 15:44:25   \n",
       "1             60  Journalism      US 2009-04-23 03:06:59 2009-11-19 21:43:15   \n",
       "\n",
       "   staff_pick       state  usd_pledged         deadline_at  usd_goal  \\\n",
       "0        True  successful      4100.60 2009-06-05 06:59:00   4000.00   \n",
       "1       False  successful      3425.00 2010-01-18 07:59:00   3000.00   \n",
       "\n",
       "   name_length  blurb_length  preparation_days  campaign_days deadline_day  \\\n",
       "0            9         22.00                10             35       Friday   \n",
       "1           10         19.00               211             59       Monday   \n",
       "\n",
       "  deadline_month  year launch_day launch_month  pledge_per_backer  \n",
       "0           June  2009     Friday          May              35.97  \n",
       "1        January  2010   Thursday     November              57.08  "
      ]
     },
     "execution_count": 4,
     "metadata": {},
     "output_type": "execute_result"
    }
   ],
   "source": [
    "df.head(2)"
   ]
  },
  {
   "cell_type": "markdown",
   "metadata": {},
   "source": [
    "## Timeseries\n",
    "\n",
    "Let's plot some timeserie to get an overview of some characterstics of Kickstarter projects in general."
   ]
  },
  {
   "cell_type": "code",
   "execution_count": 5,
   "metadata": {},
   "outputs": [],
   "source": [
    "# --- plot timeries ---\n",
    "EDA.timeseries(df);"
   ]
  },
  {
   "cell_type": "markdown",
   "metadata": {},
   "source": [
    "## Successful vs. Failed\n",
    "\n",
    "Let's ..."
   ]
  },
  {
   "cell_type": "code",
   "execution_count": 6,
   "metadata": {},
   "outputs": [],
   "source": [
    "# --- plot some distributions ---\n",
    "EDA.barplots(df);"
   ]
  },
  {
   "cell_type": "markdown",
   "metadata": {},
   "source": [
    "there are differences between successful and failed project in some features...\n",
    "\n",
    "## Look into distributions"
   ]
  },
  {
   "cell_type": "code",
   "execution_count": 19,
   "metadata": {},
   "outputs": [],
   "source": [
    "# --- histograms ---\n",
    "EDA.histplots(df[['name_length', 'blurb_length', 'preparation_days', 'campaign_days', 'usd_goal', 'state']],\n",
    "              hue='state', bins='doane', cols=2, xlog=[False, False, True, False, True])"
   ]
  },
  {
   "cell_type": "markdown",
   "metadata": {},
   "source": [
    "clearly, some features separate between successful and failed projects...\n",
    "\n",
    "## Feature depending distributions\n",
    "\n",
    "Now, let's get a deeper understanding of some features, and how they are reflected in some metrics."
   ]
  },
  {
   "cell_type": "code",
   "execution_count": 8,
   "metadata": {},
   "outputs": [],
   "source": [
    "# --- 'category' ---\n",
    "EDA.bar_by_feature(df, 'category', doSort='SuccessRate', palette='flare')"
   ]
  },
  {
   "cell_type": "markdown",
   "metadata": {},
   "source": [
    "There is a huge variation in different metrics for different categories...."
   ]
  },
  {
   "cell_type": "code",
   "execution_count": 9,
   "metadata": {},
   "outputs": [],
   "source": [
    "# --- 'country' ---\n",
    "EDA.bar_by_feature(df, 'country', palette='flare')"
   ]
  },
  {
   "cell_type": "code",
   "execution_count": 10,
   "metadata": {},
   "outputs": [],
   "source": [
    "# --- 'deadline day' ---\n",
    "EDA.bar_by_feature(df, 'deadline_day', doSort = list(calendar.day_name)[0:], palette='flare')"
   ]
  },
  {
   "cell_type": "code",
   "execution_count": 11,
   "metadata": {},
   "outputs": [],
   "source": [
    "# --- 'deadline month' ---\n",
    "EDA.bar_by_feature(df, 'deadline_month', doSort=list(calendar.month_name)[1:], palette='flare')"
   ]
  },
  {
   "cell_type": "markdown",
   "metadata": {},
   "source": [
    "## Correlations"
   ]
  },
  {
   "cell_type": "code",
   "execution_count": 18,
   "metadata": {},
   "outputs": [],
   "source": [
    "# --- correlation plots ---\n",
    "EDA.corr_matrix(df, num_feat, thresh=.1)\n",
    "EDA.corr_matrix(df, num_feat, col='state', thresh=.1)"
   ]
  },
  {
   "cell_type": "code",
   "execution_count": 17,
   "metadata": {},
   "outputs": [],
   "source": [
    "# # --- pairplot ---\n",
    "# corr_feat = ['usd_goal', 'name_length', 'blurb_length', 'preparation_days']\n",
    "# EDA.pairs(df, features=corr_feat, hue='state')"
   ]
  },
  {
   "cell_type": "markdown",
   "metadata": {},
   "source": []
  }
 ],
 "metadata": {
  "kernelspec": {
   "display_name": "nf_MF_Kickstarter",
   "language": "python",
   "name": "python3"
  },
  "language_info": {
   "codemirror_mode": {
    "name": "ipython",
    "version": 3
   },
   "file_extension": ".py",
   "mimetype": "text/x-python",
   "name": "python",
   "nbconvert_exporter": "python",
   "pygments_lexer": "ipython3",
   "version": "3.12.2"
  }
 },
 "nbformat": 4,
 "nbformat_minor": 2
}
